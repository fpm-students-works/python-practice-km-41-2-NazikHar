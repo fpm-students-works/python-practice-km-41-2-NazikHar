{
  "cells": [
    {
      "cell_type": "markdown",
      "metadata": {
        "id": "FMqboNwO4rVs"
      },
      "source": [
        "# **Курс \"Програмування на мові Python\"**"
      ]
    },
    {
      "cell_type": "markdown",
      "metadata": {
        "id": "A2T6MigL5Z06"
      },
      "source": [
        "## **Практичне зайняття №14**\n",
        "\n",
        "### Тема: \"Робота зі спеціальними форматами файлів\""
      ]
    },
    {
      "cell_type": "markdown",
      "metadata": {
        "id": "A34oz70eU463"
      },
      "source": [
        "### **Завдання 1 (1,5 бали)**\n",
        "\n",
        "Створіть CSV-файл, що буде містити від 5 до 10 пісень (творів) вашого улюбленого музиканта. Назва файлу - ім'я музиканта (композитора) або назва гурту.\n",
        "\n",
        "1. Обов'язково додайте до файлу рядок з назвами двох колонок (Song, Year) або (Composition, Year).\n",
        "\n",
        "2. Після запису файлу роздрукуйте назву файлу та усі наявні у файлі рядки (включно із заголовками).\n",
        "\n",
        "3. Для запису та зчитування рядків скористайтесь функціями csv.DictWriter() та csv.DictReader()."
      ]
    },
    {
      "cell_type": "code",
      "execution_count": 6,
      "metadata": {
        "id": "MEJIrG1GU463"
      },
      "outputs": [
        {
          "name": "stdout",
          "output_type": "stream",
          "text": [
            "Song Year \n",
            "------------------------------\n",
            "Without Me 2002\n",
            "Till I Collapse 2002\n",
            "Not Afraid 2010\n",
            "Sing For The Moment 2003\n",
            "Lose Yourself 2002\n",
            "Venom 2018\n",
            "Berzerk 2013\n",
            "Stan 2000\n",
            "The Real Slim Shady 2000\n",
            "Mockingbird 2004\n"
          ]
        }
      ],
      "source": [
        "import csv\n",
        "\n",
        "file_path = \"Eminem.csv\"\n",
        "\n",
        "fieldnames = ['Song', 'Year']\n",
        "data_to_write = [\n",
        "    {'Song': 'Without Me', 'Year': '2002'},\n",
        "    {'Song': 'Till I Collapse', 'Year': '2002'},\n",
        "    {'Song': 'Not Afraid', 'Year': '2010'},\n",
        "    {'Song': 'Sing For The Moment', 'Year': '2003'},\n",
        "    {'Song': 'Lose Yourself', 'Year': '2002'},\n",
        "    {'Song': 'Venom', 'Year': '2018'},\n",
        "    {'Song': 'Berzerk', 'Year': '2013'},\n",
        "    {'Song': 'Stan', 'Year': '2000'},\n",
        "    {'Song': 'The Real Slim Shady', 'Year': '2000'},\n",
        "    {'Song': 'Mockingbird', 'Year': '2004'},\n",
        "]\n",
        "\n",
        "with open(file_path, mode='w', encoding='utf-8', newline='') as file:\n",
        "    writer = csv.DictWriter(file, fieldnames=fieldnames)\n",
        "    writer.writeheader()\n",
        "    writer.writerows(data_to_write)\n",
        "\n",
        "with open(file_path, mode='r', encoding='utf-8') as file:\n",
        "    reader = csv.DictReader(file)\n",
        "    for heading in reader.fieldnames:\n",
        "        print(heading, end=' ')\n",
        "    print('\\n------------------------------')\n",
        "    for row in reader:\n",
        "        print(row['Song'], row['Year'])"
      ]
    },
    {
      "cell_type": "markdown",
      "metadata": {
        "id": "Jb-eSBsWU464"
      },
      "source": [
        "### **Завдання 2 (1,5 бали)**\n",
        "\n",
        "COCO Dataset - набір фотографій та анотацій до них. Його дуже часто використовують для тренування класифікаторів, призначених для розпізнавання об'єктів та визначення ключових точок на зображеннях.\n",
        "\n",
        "Завантажте файли з описом фотографій COCO Dataset за посиланням: [COCO Dataset](http://images.cocodataset.org/annotations/image_info_test2017.zip).\n",
        "\n",
        "Відкрийте файл image_info_test-dev2017.json. Інформація про фотографії з бази COCO міститься у полі \"images\". Інформація про категорії, на які розділені всі фотографії, міститься у полі \"categories\".\n",
        "\n",
        "1. Визначте кількість фотографій, інформацію про які можна знайти у цьому файлі (кількість елементів, що відповідають ключу \"images\").\n",
        "\n",
        "2. Визначте кількість наявних категорій (кількість елементів, що відповідають ключу \"categories\").\n",
        "\n",
        "3. Виведіть посилання на фотографію 000000000001.jpg (\"coco_url\"). Також виведіть висоту цієї фотографії (\"height\"), ширину (\"width\") та її ідентифікатор (\"id\").\n",
        "\n",
        "4. Виведіть назву фотографії з набільшим номером.\n",
        "\n",
        "Опис структури JSON-файлу для набору фотографій COCO можна знайти за посиланням: [Data format](https://cocodataset.org/#format-data).\n",
        "\n",
        "Щоб перевірити правильність результатів, у VS Code встановіть розширення JSON та відкрийте файл image_info_test-dev2017.json. Розширення автоматично визначає кількість елементів у кожному полі."
      ]
    },
    {
      "cell_type": "code",
      "execution_count": 10,
      "metadata": {},
      "outputs": [
        {
          "data": {
            "text/plain": [
              "(20288,\n",
              " 80,\n",
              " 'http://images.cocodataset.org/test2017/000000000001.jpg',\n",
              " 480,\n",
              " 640,\n",
              " 1,\n",
              " '000000581918.jpg')"
            ]
          },
          "execution_count": 10,
          "metadata": {},
          "output_type": "execute_result"
        }
      ],
      "source": [
        "import json\n",
        "\n",
        "file_path = \"image_info_test2017/annotations/image_info_test-dev2017.json\"\n",
        "\n",
        "with open(file_path, 'r', encoding='utf-8') as file:\n",
        "    coco_data = json.load(file)\n",
        "\n",
        "images = len(coco_data.get(\"images\", []))\n",
        "\n",
        "categories = len(coco_data.get('categories', []))\n",
        "\n",
        "for img in coco_data.get('images', []):\n",
        "    if img['file_name'] == '000000000001.jpg':\n",
        "        image_coco_url = img['coco_url']\n",
        "        image_height = img['height']\n",
        "        image_width = img['width']\n",
        "        image_id = img['id']\n",
        "        break\n",
        "    else:\n",
        "        image_coco_url = image_height = image_width = image_id = None\n",
        "\n",
        "img_id = 0\n",
        "largest_id_image_name = None\n",
        "\n",
        "for img in coco_data.get('images', []):\n",
        "    if img['id'] > img_id:\n",
        "        img_id = img['id']\n",
        "        largest_id_image_name = img['file_name']\n",
        "    \n",
        "images, categories, image_coco_url, image_height, image_width, image_id, largest_id_image_name\n",
        "    \n"
      ]
    }
  ],
  "metadata": {
    "colab": {
      "collapsed_sections": [],
      "name": "Practice_14_KM_01.ipynb",
      "provenance": []
    },
    "kernelspec": {
      "display_name": "Python 3",
      "name": "python3"
    },
    "language_info": {
      "codemirror_mode": {
        "name": "ipython",
        "version": 3
      },
      "file_extension": ".py",
      "mimetype": "text/x-python",
      "name": "python",
      "nbconvert_exporter": "python",
      "pygments_lexer": "ipython3",
      "version": "3.12.6"
    }
  },
  "nbformat": 4,
  "nbformat_minor": 0
}
