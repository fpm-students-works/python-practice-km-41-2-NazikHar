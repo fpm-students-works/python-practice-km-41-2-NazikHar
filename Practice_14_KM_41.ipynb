{
 "cells": [
  {
   "cell_type": "markdown",
   "metadata": {
    "id": "FMqboNwO4rVs"
   },
   "source": [
    "# **Курс \"Програмування на мові Python\"**"
   ]
  },
  {
   "cell_type": "markdown",
   "metadata": {
    "id": "A2T6MigL5Z06"
   },
   "source": [
    "## **Практичне зайняття №16**\n",
    "\n",
    "### Тема: \"Декоратори\""
   ]
  },
  {
   "cell_type": "markdown",
   "metadata": {},
   "source": [
    "### **Завдання 1 (3 бали)**\n",
    "\n",
    "Реалізуйте підрахунок площі трикутника з використанням декоратора, який перевірятиме можливість побудови трикутника з трьох введених користувачем сторін.\n",
    "\n",
    "1. Напишіть функцію area_calculation, яка підраховуватиме площу трикутника за трьома сторонами. Для підрахунку можете скористатись формулою Герона.\n",
    "\n",
    "2. Напишіть функцію check, яка перевірятиме правильність введених користувачем значень (значення мають бути додатними числами, не обов'язково цілими).\n",
    "\n",
    "3. Створіть декоратор triangle_ineq, який перевірятиме виконання нерівності трикутрика для трьох заданих користувачем сторін. Навісьте декоратор triangle_ineq на функція area_calculation та перевірте правильність роботи програми."
   ]
  },
  {
   "cell_type": "code",
   "execution_count": 4,
   "metadata": {},
   "outputs": [
    {
     "name": "stdout",
     "output_type": "stream",
     "text": [
      "The sides of the triangle must be positive numbers. Try again.\n",
      "The sides of the triangle must be positive numbers. Try again.\n",
      "The sides of the triangle must be positive numbers. Try again.\n",
      "It is impossible to construct a triangle with such sides.\n"
     ]
    }
   ],
   "source": [
    "def triangle_ineq(func):\n",
    "    def existence_check(a, b, c):\n",
    "        if a + b > c and a + c > b and b + c > a:\n",
    "            return func(a, b, c)\n",
    "        else:\n",
    "            return \"It is impossible to construct a triangle with such sides.\"\n",
    "    return existence_check\n",
    "\n",
    "@triangle_ineq\n",
    "def area_calculation(a, b, c):\n",
    "    p = (a + b + c)/2\n",
    "    s = (p*(p - a)*(p - b)*(p - c))**(1/2)\n",
    "    return f\"Area of ​​a triangle: {s:.2f}\"\n",
    "\n",
    "def check(prompt):\n",
    "    while True:\n",
    "        try:\n",
    "            value = float(input(prompt))\n",
    "            if value > 0:\n",
    "                return value\n",
    "            else:\n",
    "                print(\"The sides of the triangle must be positive numbers. Try again.\")\n",
    "        except ValueError:\n",
    "            print(\"Please enter valid numerical values. Try again.\")\n",
    "    \n",
    "a = check(\"Enter the value of side a\")\n",
    "b = check(\"Enter the value of side b\")\n",
    "c = check(\"Enter the value of side c\")\n",
    "        \n",
    "print(area_calculation(a, b, c))"
   ]
  }
 ],
 "metadata": {
  "colab": {
   "collapsed_sections": [],
   "name": "Practice_10-11_KM_01_.ipynb",
   "provenance": []
  },
  "kernelspec": {
   "display_name": "Python 3",
   "name": "python3"
  },
  "language_info": {
   "codemirror_mode": {
    "name": "ipython",
    "version": 3
   },
   "file_extension": ".py",
   "mimetype": "text/x-python",
   "name": "python",
   "nbconvert_exporter": "python",
   "pygments_lexer": "ipython3",
   "version": "3.12.6"
  }
 },
 "nbformat": 4,
 "nbformat_minor": 0
}
