{
  "cells": [
    {
      "cell_type": "markdown",
      "metadata": {
        "id": "FMqboNwO4rVs"
      },
      "source": [
        "# **Курс \"Програмування на мові Python\"**"
      ]
    },
    {
      "cell_type": "markdown",
      "metadata": {
        "id": "A2T6MigL5Z06"
      },
      "source": [
        "## **Практичне зайняття №6**\n",
        "### Тема: \"Робота з кортежами, множинами та словниками\""
      ]
    },
    {
      "cell_type": "markdown",
      "metadata": {
        "id": "4AV5CN7N4xja"
      },
      "source": [
        "### **Завдання 1 (1,5 бали)**\n",
        "\n",
        "Напишіть програму, яка визначала б, чи можна з літер однієї фрази скласти іншу фразу. Наприклад:\n",
        "\n",
        "\"William Shakespeare\" -> \"A small spark\"\n",
        "\n",
        "Перша фраза містить 11 унікальних літер (хоча деякі повторюються): a, e, h, i, k, l, m, p, r, s та w. Друга фраза містить 7 унікальних літер: a, k, l, m, p, r та s. Кожна з літер другої фрази зустрічається принаймні один раз у першій фразі.\n",
        "\n",
        "1. Обидві фрази повинні вводитись користувачем з клавіатури.\n",
        "\n",
        "2. Скористайтесь властивістю множин у мові програмування Python для виділення колекції унікальних літер.\n",
        "\n",
        "3. У множину не повинні потрапити пробіли, розділові знаки та інші символи, що не є літерами (скористайтесь методом **isalpha()**). Також усі літери мають бути переведені в нижній або верхній регістр (скористайтесь методами **lower()** або **upper()**).\n",
        "\n",
        "4. Зверніть увагу на те, що літери як в першій, так і вдругій фразі можуть повторюватись. Однак множина унікальних літер другої фрази повинна бути підмножиною множини унікальних літер першої фрази.\n",
        "\n",
        "5. У складі змістовного повідомлення програма повинна виводити множину літер першої фрази, множину літер другої фрази, а також змістовне повідомлення про те, чи можна скласти з літер першої фрази другу фразу."
      ]
    },
    {
      "cell_type": "code",
      "execution_count": 1,
      "metadata": {
        "id": "9Mesp1jV4xjb"
      },
      "outputs": [
        {
          "name": "stdout",
          "output_type": "stream",
          "text": [
            "Set of characters of the initial phrase:  {'i', 'h', 'p', 'l', 's', 'k', 'r', 'a', 'e', 'm', 'w'}\n",
            "Set of characters of the phrase being checked:  {'p', 'l', 's', 'k', 'r', 'a', 'm'}\n",
            "We can make the second phrase from the first because the set of the second phrase is a subset of the initial phrase.\n",
            " William Shakespeare  -->  A small spark\n"
          ]
        }
      ],
      "source": [
        "phrase1 = input(\"Enter initial phrase: \")\n",
        "phrase2 = input(\"Enter the phrase you want to check: \")\n",
        "\n",
        "set_1 = set(letter.lower() for letter in phrase1 if letter.isalpha())\n",
        "set_2 = set(letter.lower() for letter in phrase2 if letter.isalpha())\n",
        "set_3 = set_1.intersection(set_2)\n",
        "\n",
        "if set_2 == set_3:\n",
        "    print(\"Set of characters of the initial phrase: \", set_1)\n",
        "    print(\"Set of characters of the phrase being checked: \", set_2)\n",
        "    print(\"We can make the second phrase from the first because the set of the second phrase is a subset of the initial phrase.\\n\", phrase1, \" --> \", phrase2)\n",
        "\n",
        "else:\n",
        "    print(\"Set of characters of the initial phrase: \", set_1)\n",
        "    print(\"Set of characters of the phrase being checked: \", set_2)\n",
        "    print(\"We can`t make the second phrase from the first because the set of the second phrase is not a subset of the initial phrase.\\n\", phrase1, \" -/-> \", phrase2)"
      ]
    },
    {
      "cell_type": "markdown",
      "metadata": {
        "id": "t7fqn1NN-J7z"
      },
      "source": [
        "### **Завдання 2 (1,5 бали)**\n",
        "\n",
        "Скрабл (Ерудит) - це настільна гра, в якій від 2 до 4 гравців складають слова з наявних літер на полі розміром 15 х 15. За кожну використану літеру гравець отримує певну кількість балів. Перелік літер та балів, які можна отримати за використання цих літер, подано у таблиці.\n",
        "\n",
        "Бали | Літери\n",
        "--- | ---\n",
        "1 | A, E, I, L, N, O, R, S, T, U\n",
        "2 | D, G\n",
        "3 | B, C, M, P\n",
        "4 | F, H, V, W, Y\n",
        "5 | K\n",
        "8 | J, X\n",
        "10 | Q, Z\n",
        "\n",
        "Напишіть програму, яка підраховує та виводить загальну кількість балів, яку можна отримати за слово, введене користувачем з клавіатури.\n",
        "\n",
        "1. Скористайтесь словником для збереження усіх балів та літер, за які ці бали нараховуються. \n",
        "\n",
        "2. Якщо користувач введе кілька слів, виведіть бали, які можна отримати за кожне з них окремо.\n",
        "\n",
        "3. Якщо користувач введе символи, що не є літерами (окрім пробіла, який можна використовувати для розділення слів), програма має їх ігнорувати.\n",
        "\n",
        "4. Програма повинна приймати літери як верхнього, так і нижнього регістрів.\n",
        "\n",
        "Наприклад, якщо користувач введе \"Hello, World!\", програма повинна вивести:\n",
        "\n",
        "8 9\n",
        "\n",
        "або більш розгорнутий варіант (за бажанням):\n",
        "\n",
        "4+1+1+1+1=8\n",
        "\n",
        "4+1+1+1+2=9"
      ]
    },
    {
      "cell_type": "code",
      "execution_count": 2,
      "metadata": {
        "id": "EVY800vg4xjg"
      },
      "outputs": [
        {
          "name": "stdout",
          "output_type": "stream",
          "text": [
            "Entered words:  Hello, World \n",
            "Your score: 8 9 "
          ]
        }
      ],
      "source": [
        "table = {\n",
        "    'A': 1, 'E': 1, 'I': 1, 'L': 1, 'N': 1, 'O': 1, \n",
        "    'R': 1, 'S': 1, 'T': 1, 'U': 1, \n",
        "    'D': 2, 'G': 2, \n",
        "    'B': 3, 'C': 3, 'M': 3, 'P': 3, \n",
        "    'F': 4, 'H': 4, 'V': 4, 'W': 4, 'Y': 4, \n",
        "    'K': 5, \n",
        "    'J': 8, 'X': 8, \n",
        "    'Q': 10, 'Z': 10\n",
        "}\n",
        "\n",
        "words = input(\"Enter your words: \")\n",
        "words_list = words.split()\n",
        "\n",
        "scores = []\n",
        "\n",
        "for word in words_list:\n",
        "    score = 0\n",
        "\n",
        "    for letter in word:\n",
        "        if letter.isalpha():\n",
        "            score = score + table[letter.upper()]\n",
        "\n",
        "    scores.append(score)\n",
        "\n",
        "print(\"Entered words: \", words, \"\\nYour score: \", end = \"\")\n",
        "\n",
        "for score in scores:\n",
        "    print(score, end = \" \")"
      ]
    }
  ],
  "metadata": {
    "colab": {
      "collapsed_sections": [],
      "name": "Practice_5_KM-03_.ipynb",
      "provenance": []
    },
    "kernelspec": {
      "display_name": "Python 3",
      "language": "python",
      "name": "python3"
    },
    "language_info": {
      "codemirror_mode": {
        "name": "ipython",
        "version": 3
      },
      "file_extension": ".py",
      "mimetype": "text/x-python",
      "name": "python",
      "nbconvert_exporter": "python",
      "pygments_lexer": "ipython3",
      "version": "3.12.6"
    }
  },
  "nbformat": 4,
  "nbformat_minor": 2
}
