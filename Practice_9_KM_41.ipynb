{
 "cells": [
  {
   "cell_type": "markdown",
   "metadata": {
    "id": "FMqboNwO4rVs"
   },
   "source": [
    "# **Курс \"Програмування на мові Python\"**"
   ]
  },
  {
   "cell_type": "markdown",
   "metadata": {
    "id": "A2T6MigL5Z06"
   },
   "source": [
    "## **Практичне зайняття №9**\n",
    "\n",
    "### Тема: \"Робота з функціями. Локальні та глобальні змінні\""
   ]
  },
  {
   "cell_type": "markdown",
   "metadata": {
    "id": "cfCdgK2zXm7e"
   },
   "source": [
    "### **Завдання 1 (3 бали)**\n",
    "\n",
    "**Підрахувати визначник матриці, використовуючи правило перестановок.**\n",
    "\n",
    "Функція random_matrix() призначена для створення квадратної матриці випадкових чисел. Її змінювати непотрібно.\n",
    "\n",
    "Приклад використання методу permutations() для створення списку перестановок також подається у комірці з кодом.\n",
    "\n",
    "1) Створити 3 функції: функцію створення списку перестановок, функцію підрахунку добутків та функцію підрахунку загальної суми.\n",
    "\n",
    "2) Кожна функція має супроводжуватись рядком документації, що буде коротко описувати її призначення.\n",
    "\n",
    "3) Розмірність квадратної матриці має вводитись користувачем з клавіатури. Підрахунки виконувати лише в тому разі, якщо користувач введе ціле додатне число.\n",
    "\n",
    "4) Загальний результат повинен підраховуватись за допомогою композиції функцій.\n",
    "\n",
    "За бажанням можна перевірити правильність роботи програми за допомогою функції np.linalg.det(a)."
   ]
  },
  {
   "cell_type": "code",
   "execution_count": 1,
   "metadata": {
    "id": "ifNX2M7LXm7f"
   },
   "outputs": [
    {
     "name": "stdout",
     "output_type": "stream",
     "text": [
      "Згенерована матриця:\n",
      "[[1 2 2 3 8 0 2 9 9 1]\n",
      " [6 8 6 1 5 7 7 9 8 4]\n",
      " [6 5 6 1 2 7 7 6 1 7]\n",
      " [1 3 7 6 7 4 1 9 8 3]\n",
      " [1 3 5 5 4 2 5 9 0 9]\n",
      " [9 7 9 6 3 6 5 7 2 7]\n",
      " [6 6 8 9 7 8 2 0 2 2]\n",
      " [3 2 9 3 3 2 9 6 3 7]\n",
      " [4 1 8 0 0 7 1 9 5 2]\n",
      " [4 2 0 3 0 0 8 2 0 9]]\n",
      "Визначник матриці: 51429732\n",
      "Визначник матриці за допомогою np.linalg.det: 51429732.00000001\n"
     ]
    }
   ],
   "source": [
    "import numpy as np\n",
    "import itertools\n",
    "\n",
    "def random_matrix(dim):\n",
    "    \"\"\"\n",
    "    The function generates dim x dim array of integers\n",
    "    between 0 and 10.\n",
    "    \"\"\"\n",
    "    matrix = np.random.randint(10, size = (dim, dim))\n",
    "    return matrix\n",
    "\n",
    "#Example of using permutations() method\n",
    "t = list(itertools.permutations('123', 3))\n",
    "\n",
    "def generate_permutations(dim):\n",
    "    \"\"\"\n",
    "    The function generates all possible permutations of indices for a matrix of size dim x dim.\n",
    "    \"\"\"\n",
    "    list_permutation = list(itertools.permutations(range(dim), dim))\n",
    "    return list_permutation\n",
    "\n",
    "def products_permutation(matrix, dim):\n",
    "    \"\"\"\n",
    "    The function finds the products of all permutations and adds them to the list\n",
    "    \"\"\"\n",
    "    list_permutation = generate_permutations(dim)\n",
    "    products = []\n",
    "    \n",
    "    for permutation in list_permutation:\n",
    "        product = 1\n",
    "        pi = 0\n",
    "        for i in range(len(permutation)):\n",
    "            product *= matrix[i][permutation[i]]\n",
    "            for j in range(i+1, len(permutation)):\n",
    "                if permutation[i] > permutation[j]:\n",
    "                    pi += 1\n",
    "        if pi % 2 == 1:\n",
    "            products.append(-product)\n",
    "        else:\n",
    "            products.append(product)\n",
    "\n",
    "    return products\n",
    "\n",
    "def all_sum():\n",
    "    \"\"\"\n",
    "    The function adds all the products and finds the determinant\n",
    "    \"\"\"\n",
    "    product_last_list = products_permutation(matrix, dim)\n",
    "    sum = 0\n",
    "    for product in product_last_list:\n",
    "        sum += product\n",
    "    return sum\n",
    "    \n",
    "while True:\n",
    "    try:\n",
    "        dim = int(input(\"Введіть розмірність квадратної матриці (натуральне число): \"))\n",
    "        if dim <= 0:\n",
    "            print(\"Розмірність має бути додатнім числом. Спробуйте ще раз.\")\n",
    "            continue\n",
    "        break\n",
    "    except ValueError:\n",
    "        print(\"Будь ласка, введіть натуральне число.\")\n",
    "\n",
    "matrix = random_matrix(dim)\n",
    "print(\"Згенерована матриця:\")\n",
    "print(matrix)\n",
    "\n",
    "det = all_sum()\n",
    "print(\"Визначник матриці:\", det)\n",
    "\n",
    "np_det = np.linalg.det(matrix)\n",
    "print(\"Визначник матриці за допомогою np.linalg.det:\", np_det)"
   ]
  }
 ],
 "metadata": {
  "colab": {
   "collapsed_sections": [],
   "name": "Practice_7_KM-01_.ipynb",
   "provenance": []
  },
  "kernelspec": {
   "display_name": "Python 3",
   "language": "python",
   "name": "python3"
  },
  "language_info": {
   "codemirror_mode": {
    "name": "ipython",
    "version": 3
   },
   "file_extension": ".py",
   "mimetype": "text/x-python",
   "name": "python",
   "nbconvert_exporter": "python",
   "pygments_lexer": "ipython3",
   "version": "3.12.6"
  }
 },
 "nbformat": 4,
 "nbformat_minor": 0
}
