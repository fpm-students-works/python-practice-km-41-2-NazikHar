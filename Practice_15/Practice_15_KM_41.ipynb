{
  "cells": [
    {
      "cell_type": "markdown",
      "metadata": {
        "id": "FMqboNwO4rVs"
      },
      "source": [
        "# **Курс \"Програмування на мові Python\"**"
      ]
    },
    {
      "cell_type": "markdown",
      "metadata": {
        "id": "A2T6MigL5Z06"
      },
      "source": [
        "## **Практичне зайняття №13**\n",
        "\n",
        "### Тема: \"Робота з файлами\""
      ]
    },
    {
      "cell_type": "markdown",
      "metadata": {
        "id": "cfCdgK2zXm7e"
      },
      "source": [
        "### **Завдання 1 (1,5 бали)**\n",
        "\n",
        "У 1939 році друком вийшов роман американського письменика Ернеста Вінсента Райта \"Ґетсбі\". Особливу увагу публіки він здобув через те, що письменник жодного разу не використав у романі літеру \"e\" (роман складається з більше ніж 50,000 слів), яка є найбільш вживаною літерою в англійській мові.\n",
        "\n",
        "Порахуйте кількість входжень кожної літери у текст роману. Виведіть список літер англійського алфавіту, а також інформацію про те, скільки відсотків від усіх літер тексту складає кожна літера алфавіту.\n",
        "\n",
        "Зауваження:\n",
        "\n",
        "1. Програма має ігнорувати будь-які символи, окрім літер.\n",
        "\n",
        "2. Переведіть усі літери у верхній або у нижній регістр.\n",
        "\n",
        "3. Під час виведення відсортуйте літери у порядку зменшення їхнього відсотка. Літера \"e\" має стояти на останньому місці у цьому списку (хоча кілька літер e там все ж таки зустрічається).\n",
        "\n",
        "4. Виведіть перші 5 та останні 5 літер відсортованого списку разом з відсотковими значеннями, що їм відповідають. Відсотки округліть до тисячних."
      ]
    },
    {
      "cell_type": "code",
      "execution_count": 9,
      "metadata": {
        "id": "u4-fHJJ6U462",
        "tags": [
          "outputPrepend"
        ]
      },
      "outputs": [
        {
          "name": "stdout",
          "output_type": "stream",
          "text": [
            "Top 5 letters:\n",
            "a: 10.98%\n",
            "o: 10.403%\n",
            "i: 8.812%\n",
            "n: 8.604%\n",
            "t: 8.462%\n",
            "\n",
            "Bottom 5 letters:\n",
            "j: 0.232%\n",
            "z: 0.109%\n",
            "x: 0.081%\n",
            "q: 0.05%\n",
            "e: 0.002%\n"
          ]
        }
      ],
      "source": [
        "with open(\"gadsby.txt\", \"r\") as file:\n",
        "    for _ in range(128):\n",
        "        next(file)\n",
        "    text = file.read()\n",
        "    \n",
        "letters = \"abcdefghijklmnopqrstuvwxyz\"\n",
        "\n",
        "letter_count = {letter: 0 for letter in letters}\n",
        "\n",
        "for char in text.lower():\n",
        "    if char in letter_count:\n",
        "        letter_count[char] += 1\n",
        "\n",
        "total_letters = 0\n",
        "\n",
        "for values in letter_count.values():\n",
        "    total_letters += values\n",
        "\n",
        "percent_letters = {}\n",
        "\n",
        "for letter, count in letter_count.items():\n",
        "    percent = round(100*(count/total_letters), 3)\n",
        "    percent_letters[letter] = percent\n",
        "\n",
        "sorted_letters = sorted(percent_letters.items(), key=lambda x: -x[1])\n",
        "\n",
        "print(\"Top 5 letters:\")\n",
        "for letter, percent in sorted_letters[:5]:\n",
        "    print(f\"{letter}: {percent}%\")\n",
        "\n",
        "print(\"\\nBottom 5 letters:\")\n",
        "for letter, percent in sorted_letters[-5:]:\n",
        "    print(f\"{letter}: {percent}%\")"
      ]
    },
    {
      "cell_type": "markdown",
      "metadata": {
        "id": "A34oz70eU463"
      },
      "source": [
        "### **Завдання 2 (1,5 бали)**\n",
        "\n",
        "Архів archive.zip містить 140 txt-файлів, в яких збережено інфорамцію про те, якими іменами називали дітей у США в період з 1880 по 2019 рік.\n",
        "\n",
        "Структура рядка кожного файлу така:\n",
        "\n",
        "*name,sex,number_of_occurrences*\n",
        "\n",
        "Напишіть програму, яка зчитуватиме кожен файл та визначатиме окремо чоловічі, окремо жіночі імена, що були найпопулярнішими хоча б в один з років. Далі програма повинна підраховувати, скільки разів кожне з цих імен ставало найпопулярнишим, та виводити ранжовані списки чоловічіх та жіночих імен у вигляді:\n",
        "\n",
        "```\n",
        "Michael 44\n",
        "John 44\n",
        "Robert 17\n",
        "...\n",
        "\n",
        "Mary 76\n",
        "Jennifer 15\n",
        "Emily 12\n",
        "...\n",
        "```"
      ]
    },
    {
      "cell_type": "code",
      "execution_count": 6,
      "metadata": {},
      "outputs": [
        {
          "name": "stdout",
          "output_type": "stream",
          "text": [
            "Найпопулярніші чоловічі імена:\n",
            "John: 44\n",
            "Michael: 44\n",
            "Robert: 17\n",
            "Jacob: 14\n",
            "James: 13\n",
            "Noah: 4\n",
            "Liam: 3\n",
            "David: 1\n",
            "\n",
            "Найпопулярніші жіночі імена:\n",
            "Mary: 76\n",
            "Jennifer: 15\n",
            "Emily: 12\n",
            "Jessica: 9\n",
            "Lisa: 8\n",
            "Linda: 6\n",
            "Emma: 6\n",
            "Sophia: 3\n",
            "Ashley: 2\n",
            "Isabella: 2\n",
            "Olivia: 1\n"
          ]
        }
      ],
      "source": [
        "import os\n",
        "\n",
        "male_name_count = {}\n",
        "female_name_count = {}\n",
        "\n",
        "def process_file(file_path):\n",
        "    male_max_name, male_max_count = None, 0\n",
        "    female_max_name, female_max_count = None, 0\n",
        "\n",
        "    with open(file_path, 'r') as file:\n",
        "        for line in file:\n",
        "            name, sex, count = line.strip().split(',')\n",
        "            count = int(count)\n",
        "            \n",
        "            if sex == 'M' and count > male_max_count:\n",
        "                male_max_name, male_max_count = name, count\n",
        "            \n",
        "            elif sex == 'F' and count > female_max_count:\n",
        "                female_max_name, female_max_count = name, count\n",
        "\n",
        "    if male_max_name:\n",
        "        if male_max_name in male_name_count:\n",
        "            male_name_count[male_max_name] += 1\n",
        "        else:\n",
        "            male_name_count[male_max_name] = 1\n",
        "    \n",
        "    if female_max_name:\n",
        "        if female_max_name in female_name_count:\n",
        "            female_name_count[female_max_name] += 1\n",
        "        else:\n",
        "            female_name_count[female_max_name] = 1\n",
        "\n",
        "for file_name in os.listdir(\"archive\"):\n",
        "    if file_name.endswith('.txt'):\n",
        "        process_file(os.path.join(\"archive\", file_name))\n",
        "        \n",
        "sorted_male_names = sorted(male_name_count.items(), key = lambda x: -x[1])\n",
        "sorted_female_names = sorted(female_name_count.items(), key = lambda x: -x[1])\n",
        "\n",
        "print(\"Найпопулярніші чоловічі імена:\")\n",
        "for name, count in sorted_male_names:\n",
        "    print(f\"{name}: {count}\")\n",
        "\n",
        "print(\"\\nНайпопулярніші жіночі імена:\")\n",
        "for name, count in sorted_female_names:\n",
        "    print(f\"{name}: {count}\")"
      ]
    }
  ],
  "metadata": {
    "colab": {
      "collapsed_sections": [],
      "name": "Practice_14_KM_01.ipynb",
      "provenance": []
    },
    "kernelspec": {
      "display_name": "Python 3",
      "name": "python3"
    },
    "language_info": {
      "codemirror_mode": {
        "name": "ipython",
        "version": 3
      },
      "file_extension": ".py",
      "mimetype": "text/x-python",
      "name": "python",
      "nbconvert_exporter": "python",
      "pygments_lexer": "ipython3",
      "version": "3.12.6"
    }
  },
  "nbformat": 4,
  "nbformat_minor": 0
}
